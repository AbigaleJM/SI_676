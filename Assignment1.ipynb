{
 "cells": [
  {
   "cell_type": "markdown",
   "metadata": {},
   "source": [
    "Using the Python tools we have discussed in class (ie, os.path, os, shutil, and specifically os.walk, hashlib, and csv module), create a file inventory. Your inventory should be of the networked labs `data` folder. Your inventory should include the path to each file, the file name, file extension, file size, last modified time, file integrity information (at least one hash digest). Think of this as a sort of deposit list or transfer list that would be necessary to share with someone else as a representation of a digital collection. You have to know the things that are expected in the collection (your list), you have to know what the things are (your metadata), and how they relate to each other (in practice you would want to have more metadata, like unique identifiers, etc, but the paths give an idea of how things are related and would be a solid start). \n",
    "\n",
    "Your assignment submission should include:\n",
    "\n",
    "the python script you write (preferably uploaded to a repository on your personal github site, but may be submitted as a file);\n",
    "an inventory in CSV (if sharing a repo, share link to repo). There is some room for variation in the column names, but the elements noted above should give you a pretty clear structure; \n",
    "an accompanying README document that explains the files, their source (provenance), and the metadata fields in the CSV (what they mean, what the datatypes are, where the data comes from or how it was derived), when and how the information was created. Guide for creating README style documents are online, I recommend this one from Cornell Research Data Service, https://data.research.cornell.edu/content/readme"
   ]
  },
  {
   "cell_type": "code",
   "execution_count": 2,
   "metadata": {},
   "outputs": [],
   "source": [
    "import os\n",
    "from datetime import datetime\n",
    "import hashlib\n",
    "import csv"
   ]
  },
  {
   "cell_type": "code",
   "execution_count": 3,
   "metadata": {},
   "outputs": [],
   "source": [
    "path_to_datadir = os.path.join('networked-services-labs-main', 'data')\n"
   ]
  },
  {
   "cell_type": "code",
   "execution_count": 4,
   "metadata": {},
   "outputs": [],
   "source": [
    "def get_checksum(filePath, checksum_type):\n",
    "    '''This is a helper function to create a checksum.\n",
    "    In this example we will focus on MD5, which can be used to check data integrity.\n",
    "\n",
    "    The filePath value argument be a string representing a valid path.\n",
    "    The checksum_type argument should be a valid type of checksum.\n",
    "\n",
    "    The function returns the string of characters for an MD5 or SHA256 checksum.\n",
    "    The is function only allows you to create MD5 or SHA 256 and will result in an error for other types.'''\n",
    "    checksum_type = checksum_type.lower().replace(' ', '')\n",
    "\n",
    "    with open(filePath, 'rb') as f:\n",
    "        bytes = f.read()\n",
    "        if checksum_type == 'md5':\n",
    "            hash_string = hashlib.md5(bytes).hexdigest()\n",
    "        elif checksum_type == 'sha256':\n",
    "            hash_string = hashlib.sha256(bytes).hexdigest()\n",
    "        else:\n",
    "            Raise('{} is not a hash function supported by this program. You must ask for MD5.')\n",
    "    return hash_string"
   ]
  },
  {
   "cell_type": "code",
   "execution_count": 5,
   "metadata": {},
   "outputs": [
    {
     "name": "stdout",
     "output_type": "stream",
     "text": [
      "Writing file manifest CSV\n",
      "adding animals.csv\n",
      "adding mbox-short.txt\n",
      "adding 08-12-1997-items.xls\n",
      "adding 08-12-1997-items.xlsx\n",
      "adding books-on-shelves12-3-2002.txt\n",
      "adding diary-04-23-19.doc\n",
      "adding diary-04-23-20.docx\n",
      "adding observations-03-30-2018.csv\n",
      "adding sightings-202203.jpg\n",
      "adding html-with-script.html\n",
      "adding script.js\n",
      "adding style.css\n",
      "adding cubane.pdb\n",
      "adding ethane.pdb\n",
      "adding methane.pdb\n",
      "adding octane.pdb\n",
      "adding pentane.pdb\n",
      "adding propane.pdb\n",
      "adding 2014-01-31_JA-africa.tsv\n",
      "adding 2014-01-31_JA-america.tsv\n",
      "adding 2014-02-02_JA-britain.tsv\n",
      "adding 201403160_01_text.json\n",
      "adding 33504-0.txt\n",
      "adding 829-0.txt\n",
      "adding diary.html\n",
      "adding pg514.txt\n",
      "adding web-files-small-metadata.csv\n",
      "adding 000727.ram\n",
      "adding 11-3250JohnsonvFolinoEtAl.wma\n",
      "adding mj_telework_exchange_final_100710.mp3\n",
      "adding NEWSLINE_802AF71F439D401585C6FCB02F358307.mp3\n",
      "adding 1005107061.tif\n",
      "adding 13080t.jpg\n",
      "adding k7989-7x.jpg\n",
      "adding m237a2f.gif\n",
      "adding orca.via_.moc_.noaa_.jpg\n",
      "adding 01-1480.pdf\n",
      "adding Chapter03.pdf\n",
      "adding file.pdf\n",
      "adding HR2021 commtext.pdf\n",
      "adding PFCHEJ.pdf\n",
      "adding ADAEMPLOYMENTTaxIncentives.ppt\n",
      "adding BudgetandGrants012710.ppt\n",
      "adding Non-FTE-Trainee-Activities-060109.ppt\n",
      "adding 04-04-21full.asf\n",
      "adding glmp_cig.EQ.wm.p20.t12z\n",
      "adding oct17cc.asx\n",
      "adding vlwhcssc.asx\n",
      "Write manifest\n"
     ]
    }
   ],
   "source": [
    "file_list = list()\n",
    "headers = ['filename', 'folder', 'extension', 'size(bytes)', 'absolute_path', 'modification_time', 'md5_checksum', 'sha256_checksum'] \n",
    "\n",
    "for folderName, subfolders, filenames in os.walk(path_to_datadir):\n",
    "    for file in filenames:\n",
    "        filename = file\n",
    "        folder = folderName\n",
    "        path = os.path.join(folderName, file)\n",
    "        extension = os.path.splitext(os.path.join(folderName, file))[1]\n",
    "        absolutePath = os.path.abspath(os.path.join(folderName, file))\n",
    "        size = os.path.getsize(os.path.join(folderName, file))\n",
    "        modification_time = datetime.strftime(datetime.fromtimestamp(os.path.getmtime(os.path.join(folderName, file))), \"%Y-%m-%dT%H:%M:%S\")\n",
    "        md5_checksum = get_checksum(os.path.join(folderName, file), 'md5')\n",
    "        sha256_checksum = get_checksum(os.path.join(folderName, file), 'sha256')\n",
    "        file_info = [\n",
    "            filename,\n",
    "            folder,\n",
    "            extension,\n",
    "            size,\n",
    "            absolutePath,\n",
    "            modification_time,\n",
    "            md5_checksum,\n",
    "            sha256_checksum\n",
    "        ]\n",
    "\n",
    "        file_list.append(file_info)\n",
    "\n",
    "with open('file-metadata-manifest-from-list.csv', 'w', newline=\"\") as csvfile:\n",
    "    fileManifest = csv.writer(csvfile)\n",
    "    print('Writing file manifest CSV')\n",
    "    fileManifest.writerow(headers)\n",
    "    for file in file_list:\n",
    "            print('adding', file[0])\n",
    "            fileManifest.writerow(file)\n",
    "    print('Write manifest')\n",
    "\n",
    "\n",
    "\n",
    "#    print(f\" File name: {filename}\\n  Stored in {folder} folder\\n  Path: {path}\\n  Absolute Path: {absolute_path}\\n  File size (bytes): {size}\")\n",
    "\n",
    "\n"
   ]
  }
 ],
 "metadata": {
  "kernelspec": {
   "display_name": "Python 3.9.6 64-bit",
   "language": "python",
   "name": "python3"
  },
  "language_info": {
   "codemirror_mode": {
    "name": "ipython",
    "version": 3
   },
   "file_extension": ".py",
   "mimetype": "text/x-python",
   "name": "python",
   "nbconvert_exporter": "python",
   "pygments_lexer": "ipython3",
   "version": "3.9.6"
  },
  "orig_nbformat": 4,
  "vscode": {
   "interpreter": {
    "hash": "681ca37c25f14f837b540050dd722cfdee926d415f95ffaea7dc046471cde254"
   }
  }
 },
 "nbformat": 4,
 "nbformat_minor": 2
}
